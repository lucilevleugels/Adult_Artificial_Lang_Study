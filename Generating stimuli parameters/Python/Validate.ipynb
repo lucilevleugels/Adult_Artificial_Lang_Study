{
 "cells": [
  {
   "cell_type": "code",
   "execution_count": 1,
   "id": "e58f4a40",
   "metadata": {},
   "outputs": [],
   "source": [
    "import pandas as pd \n",
    "import matplotlib.pyplot as plt"
   ]
  },
  {
   "cell_type": "code",
   "execution_count": 2,
   "id": "dcfce7c4",
   "metadata": {},
   "outputs": [],
   "source": [
    "train = pd.read_csv(\"./Train/train_df.csv\")\n",
    "test = pd.read_csv(\"./Test/test_df.csv\")"
   ]
  },
  {
   "cell_type": "code",
   "execution_count": 12,
   "id": "e6a818ac",
   "metadata": {},
   "outputs": [
    {
     "data": {
      "text/plain": [
       "final\n",
       "chelad barget bimdah nellby jeelow dingep        4\n",
       "sumbark makkot nellby fisslin limeber bimdah     4\n",
       "nellby makkot chelad fisslin sumbark bimdah      4\n",
       "jeelow barget bimdah nellby haagle dingep        4\n",
       "nellby makkot bimdah limeber dingep goorshell    4\n",
       "                                                ..\n",
       "goorshell barget makkot nellby fisslin dingep    2\n",
       "limeber barget haagle nellby jeelow dingep       2\n",
       "chelad barget goorshell nellby haagle dingep     2\n",
       "chelad makkot sumbark fisslin limeber bimdah     2\n",
       "haagle barget bimdah nellby limeber dingep       2\n",
       "Name: count, Length: 70, dtype: int64"
      ]
     },
     "execution_count": 12,
     "metadata": {},
     "output_type": "execute_result"
    }
   ],
   "source": [
    "repetitions = train['final'].value_counts()\n",
    "condition = train['final'].value_counts() > 1 \n",
    "repetitions = repetitions[condition]\n",
    "repetitions"
   ]
  },
  {
   "cell_type": "code",
   "execution_count": null,
   "id": "ce3ebce2",
   "metadata": {},
   "outputs": [],
   "source": []
  }
 ],
 "metadata": {
  "kernelspec": {
   "display_name": "Python 3 (ipykernel)",
   "language": "python",
   "name": "python3"
  },
  "language_info": {
   "codemirror_mode": {
    "name": "ipython",
    "version": 3
   },
   "file_extension": ".py",
   "mimetype": "text/x-python",
   "name": "python",
   "nbconvert_exporter": "python",
   "pygments_lexer": "ipython3",
   "version": "3.11.4"
  }
 },
 "nbformat": 4,
 "nbformat_minor": 5
}
